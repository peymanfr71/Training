{
 "cells": [
  {
   "cell_type": "code",
   "execution_count": 17,
   "id": "11174d80-5e51-48b1-9633-fe5c1049824f",
   "metadata": {},
   "outputs": [],
   "source": [
    "height_in = [74, 74, 72, 75, 75, 73]\n",
    "weight_lb = [180, 215, 210, 205, 190, 195]\n",
    "\n",
    "# Import numpy\n",
    "import numpy as np"
   ]
  },
  {
   "cell_type": "code",
   "execution_count": 18,
   "id": "40e85186-57b5-4a5f-be30-264c6260f632",
   "metadata": {},
   "outputs": [
    {
     "name": "stdout",
     "output_type": "stream",
     "text": [
      "[1.8796 1.8796 1.8288 1.905  1.905  1.8542]\n",
      "[81.64656 97.52228 95.25432 92.98636 86.18248 88.45044]\n",
      "[23.11037639 27.60406069 28.48080465 25.62295933 23.74810865 25.72686361]\n",
      "[False False False False False False]\n",
      "[]\n"
     ]
    }
   ],
   "source": [
    "# Create array from height_in with metric units: np_height_m\n",
    "np_height_m = np.array(height_in) * 0.0254\n",
    "\n",
    "# Create array from weight_lb with metric units: np_weight_kg\n",
    "np_weight_lb = np.array(weight_lb)\n",
    "np_weight_kg = np_weight_lb * 0.453592\n",
    "\n",
    "print (np_height_m)\n",
    "print (np_weight_kg)\n",
    "\n",
    "# Calculate the BMI: bmi\n",
    "bmi = np_weight_kg / np_height_m ** 2\n",
    "\n",
    "# Print out bmi\n",
    "print (bmi)\n",
    "bmi > 23\n",
    "light = bmi < 21\n",
    "print (light)\n",
    "bmi_light = bmi[light]\n",
    "print(bmi_light)"
   ]
  },
  {
   "cell_type": "code",
   "execution_count": 15,
   "id": "6357312c-6cab-4603-b93e-7c5633ec1137",
   "metadata": {},
   "outputs": [
    {
     "name": "stdout",
     "output_type": "stream",
     "text": [
      "[11.25, 18.0, 20.0, 10.75, 9.5, 24.5, 15.45]\n",
      "[15.45, 24.5, 9.5, 10.75, 20.0, 18.0, 11.25]\n"
     ]
    }
   ],
   "source": [
    "# Create list areas\n",
    "areas = [11.25, 18.0, 20.0, 10.75, 9.50]\n",
    "\n",
    "# Use append twice to add poolhouse and garage size\n",
    "areas.append(24.5)\n",
    "areas.append(15.45)\n",
    "\n",
    "# Print out areas\n",
    "print (areas)\n",
    "\n",
    "# Reverse the orders of the elements in areas\n",
    "areas.reverse()\n",
    "\n",
    "# Print out areas\n",
    "print (areas)"
   ]
  },
  {
   "cell_type": "code",
   "execution_count": 19,
   "id": "c0439671-3699-46c9-9d4b-9c4efd1e2730",
   "metadata": {},
   "outputs": [
    {
     "name": "stdout",
     "output_type": "stream",
     "text": [
      "Circumference: 2.70\n",
      "Area: 0.58\n"
     ]
    }
   ],
   "source": [
    "import math\n",
    "\n",
    "# Definition of radius\n",
    "r = 0.43\n",
    "\n",
    "# Calculate C\n",
    "C = 2 * math.pi * r\n",
    "\n",
    "# Calculate A\n",
    "A = math.pi * r ** 2\n",
    "\n",
    "# Build printout\n",
    "print(f\"Circumference: {C:.2f}\")\n",
    "print(f\"Area: {A:.2f}\")\n"
   ]
  },
  {
   "cell_type": "code",
   "execution_count": 22,
   "id": "53061898-3a9e-4fb3-aaa7-4767439ee8ef",
   "metadata": {},
   "outputs": [
    {
     "name": "stdout",
     "output_type": "stream",
     "text": [
      "31.42\n"
     ]
    }
   ],
   "source": [
    "import math\n",
    "\n",
    "# شعاع دایره\n",
    "r = 5\n",
    "\n",
    "# محاسبه طول مدار دایره\n",
    "C = 2 * math.pi * r\n",
    "\n",
    "print(f'{C:.2f}')\n"
   ]
  },
  {
   "cell_type": "code",
   "execution_count": null,
   "id": "6a5a66fc-9e6a-4da6-aa44-f26be97152f6",
   "metadata": {},
   "outputs": [],
   "source": []
  }
 ],
 "metadata": {
  "kernelspec": {
   "display_name": "Python 3 (ipykernel)",
   "language": "python",
   "name": "python3"
  },
  "language_info": {
   "codemirror_mode": {
    "name": "ipython",
    "version": 3
   },
   "file_extension": ".py",
   "mimetype": "text/x-python",
   "name": "python",
   "nbconvert_exporter": "python",
   "pygments_lexer": "ipython3",
   "version": "3.11.4"
  }
 },
 "nbformat": 4,
 "nbformat_minor": 5
}
